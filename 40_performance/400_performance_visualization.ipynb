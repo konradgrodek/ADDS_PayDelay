{
 "cells": [
  {
   "cell_type": "code",
   "execution_count": 4,
   "id": "1e46c1bd",
   "metadata": {},
   "outputs": [],
   "source": [
    "import sys\n",
    "sys.path.append('../')\n",
    "from lib.perfeval import PaymentStoriesPerformanceEvaluator\n",
    "from lib.input_const import payment_stories_file, PaymentStoriesColumns"
   ]
  },
  {
   "cell_type": "code",
   "execution_count": 3,
   "id": "ee1332f6",
   "metadata": {},
   "outputs": [],
   "source": [
    "source_codename = 'Adbouti'\n",
    "input_code = 202212\n",
    "evaluator = PaymentStoriesPerformanceEvaluator(payment_stories_file(input_code, source_codename), source_codename)"
   ]
  },
  {
   "cell_type": "code",
   "execution_count": 7,
   "id": "cd93c6cf",
   "metadata": {},
   "outputs": [
    {
     "ename": "ArrowNotImplementedError",
     "evalue": "Function 'invert' has no kernel matching input types (double)",
     "output_type": "error",
     "traceback": [
      "\u001b[1;31m---------------------------------------------------------------------------\u001b[0m",
      "\u001b[1;31mArrowNotImplementedError\u001b[0m                  Traceback (most recent call last)",
      "Cell \u001b[1;32mIn[7], line 1\u001b[0m\n\u001b[1;32m----> 1\u001b[0m \u001b[43mevaluator\u001b[49m\u001b[38;5;241;43m.\u001b[39;49m\u001b[43mroc_curve\u001b[49m\u001b[43m(\u001b[49m\u001b[43mpredictor_col\u001b[49m\u001b[38;5;241;43m=\u001b[39;49m\u001b[43mPaymentStoriesColumns\u001b[49m\u001b[38;5;241;43m.\u001b[39;49m\u001b[43mScaledDelayMean\u001b[49m\u001b[38;5;241;43m.\u001b[39;49m\u001b[43mname\u001b[49m\u001b[43m,\u001b[49m\u001b[43m \u001b[49m\u001b[43mthreshold_min\u001b[49m\u001b[38;5;241;43m=\u001b[39;49m\u001b[38;5;241;43m-\u001b[39;49m\u001b[38;5;241;43m3\u001b[39;49m\u001b[43m,\u001b[49m\u001b[43m \u001b[49m\u001b[43mthreshold_max\u001b[49m\u001b[38;5;241;43m=\u001b[39;49m\u001b[38;5;241;43m3\u001b[39;49m\u001b[43m,\u001b[49m\u001b[43m \u001b[49m\u001b[43msteps\u001b[49m\u001b[38;5;241;43m=\u001b[39;49m\u001b[38;5;241;43m100\u001b[39;49m\u001b[43m,\u001b[49m\u001b[43m \u001b[49m\u001b[43mactual_col\u001b[49m\u001b[38;5;241;43m=\u001b[39;49m\u001b[43mPaymentStoriesColumns\u001b[49m\u001b[38;5;241;43m.\u001b[39;49m\u001b[43mDenotesAnyRisk\u001b[49m\u001b[38;5;241;43m.\u001b[39;49m\u001b[43mname\u001b[49m\u001b[43m)\u001b[49m\n",
      "File \u001b[1;32mc:\\Users\\k.grodek\\PycharmProjects\\ADDS_PayDelay\\40_performance\\..\\lib\\perfeval.py:143\u001b[0m, in \u001b[0;36mPaymentStoriesPerformanceEvaluator.roc_curve\u001b[1;34m(self, predictor_col, threshold_min, threshold_max, steps, actual_col)\u001b[0m\n\u001b[0;32m    139\u001b[0m _thresholds \u001b[38;5;241m=\u001b[39m [threshold_min \u001b[38;5;241m+\u001b[39m _i\u001b[38;5;241m*\u001b[39m(threshold_max \u001b[38;5;241m-\u001b[39m threshold_min)\u001b[38;5;241m/\u001b[39msteps \u001b[38;5;28;01mfor\u001b[39;00m _i \u001b[38;5;129;01min\u001b[39;00m \u001b[38;5;28mrange\u001b[39m(steps\u001b[38;5;241m+\u001b[39m\u001b[38;5;241m1\u001b[39m)]\n\u001b[0;32m    140\u001b[0m _tpr \u001b[38;5;241m=\u001b[39m [\n\u001b[0;32m    141\u001b[0m     \u001b[38;5;28mself\u001b[39m\u001b[38;5;241m.\u001b[39mrecall(predictor_col\u001b[38;5;241m=\u001b[39mpredictor_col, threshold\u001b[38;5;241m=\u001b[39m_th, actual_col\u001b[38;5;241m=\u001b[39mactual_col) \u001b[38;5;28;01mfor\u001b[39;00m _th \u001b[38;5;129;01min\u001b[39;00m _thresholds\n\u001b[0;32m    142\u001b[0m ]\n\u001b[1;32m--> 143\u001b[0m _fpr \u001b[38;5;241m=\u001b[39m \u001b[43m[\u001b[49m\n\u001b[0;32m    144\u001b[0m \u001b[43m    \u001b[49m\u001b[38;5;28;43mself\u001b[39;49m\u001b[38;5;241;43m.\u001b[39;49m\u001b[43mfalse_positive_rate\u001b[49m\u001b[43m(\u001b[49m\n\u001b[0;32m    145\u001b[0m \u001b[43m        \u001b[49m\u001b[43mpredictor_col\u001b[49m\u001b[38;5;241;43m=\u001b[39;49m\u001b[43mpredictor_col\u001b[49m\u001b[43m,\u001b[49m\u001b[43m \u001b[49m\u001b[43mthreshold\u001b[49m\u001b[38;5;241;43m=\u001b[39;49m\u001b[43m_th\u001b[49m\u001b[43m,\u001b[49m\u001b[43m \u001b[49m\u001b[43mactual_col\u001b[49m\u001b[38;5;241;43m=\u001b[39;49m\u001b[43mactual_col\u001b[49m\n\u001b[0;32m    146\u001b[0m \u001b[43m    \u001b[49m\u001b[43m)\u001b[49m\u001b[43m \u001b[49m\u001b[38;5;28;43;01mfor\u001b[39;49;00m\u001b[43m \u001b[49m\u001b[43m_th\u001b[49m\u001b[43m \u001b[49m\u001b[38;5;129;43;01min\u001b[39;49;00m\u001b[43m \u001b[49m\u001b[43m_thresholds\u001b[49m\n\u001b[0;32m    147\u001b[0m \u001b[43m\u001b[49m\u001b[43m]\u001b[49m\n\u001b[0;32m    148\u001b[0m \u001b[38;5;28;01mreturn\u001b[39;00m pd\u001b[38;5;241m.\u001b[39mDataFrame({\u001b[38;5;124m\"\u001b[39m\u001b[38;5;124mFalse Positive Rate\u001b[39m\u001b[38;5;124m\"\u001b[39m: _fpr, \u001b[38;5;124m\"\u001b[39m\u001b[38;5;124mTrue Positive Rate\u001b[39m\u001b[38;5;124m\"\u001b[39m: _tpr}, index\u001b[38;5;241m=\u001b[39m_thresholds)\n",
      "File \u001b[1;32mc:\\Users\\k.grodek\\PycharmProjects\\ADDS_PayDelay\\40_performance\\..\\lib\\perfeval.py:144\u001b[0m, in \u001b[0;36m<listcomp>\u001b[1;34m(.0)\u001b[0m\n\u001b[0;32m    139\u001b[0m _thresholds \u001b[38;5;241m=\u001b[39m [threshold_min \u001b[38;5;241m+\u001b[39m _i\u001b[38;5;241m*\u001b[39m(threshold_max \u001b[38;5;241m-\u001b[39m threshold_min)\u001b[38;5;241m/\u001b[39msteps \u001b[38;5;28;01mfor\u001b[39;00m _i \u001b[38;5;129;01min\u001b[39;00m \u001b[38;5;28mrange\u001b[39m(steps\u001b[38;5;241m+\u001b[39m\u001b[38;5;241m1\u001b[39m)]\n\u001b[0;32m    140\u001b[0m _tpr \u001b[38;5;241m=\u001b[39m [\n\u001b[0;32m    141\u001b[0m     \u001b[38;5;28mself\u001b[39m\u001b[38;5;241m.\u001b[39mrecall(predictor_col\u001b[38;5;241m=\u001b[39mpredictor_col, threshold\u001b[38;5;241m=\u001b[39m_th, actual_col\u001b[38;5;241m=\u001b[39mactual_col) \u001b[38;5;28;01mfor\u001b[39;00m _th \u001b[38;5;129;01min\u001b[39;00m _thresholds\n\u001b[0;32m    142\u001b[0m ]\n\u001b[0;32m    143\u001b[0m _fpr \u001b[38;5;241m=\u001b[39m [\n\u001b[1;32m--> 144\u001b[0m     \u001b[38;5;28;43mself\u001b[39;49m\u001b[38;5;241;43m.\u001b[39;49m\u001b[43mfalse_positive_rate\u001b[49m\u001b[43m(\u001b[49m\n\u001b[0;32m    145\u001b[0m \u001b[43m        \u001b[49m\u001b[43mpredictor_col\u001b[49m\u001b[38;5;241;43m=\u001b[39;49m\u001b[43mpredictor_col\u001b[49m\u001b[43m,\u001b[49m\u001b[43m \u001b[49m\u001b[43mthreshold\u001b[49m\u001b[38;5;241;43m=\u001b[39;49m\u001b[43m_th\u001b[49m\u001b[43m,\u001b[49m\u001b[43m \u001b[49m\u001b[43mactual_col\u001b[49m\u001b[38;5;241;43m=\u001b[39;49m\u001b[43mactual_col\u001b[49m\n\u001b[0;32m    146\u001b[0m \u001b[43m    \u001b[49m\u001b[43m)\u001b[49m \u001b[38;5;28;01mfor\u001b[39;00m _th \u001b[38;5;129;01min\u001b[39;00m _thresholds\n\u001b[0;32m    147\u001b[0m ]\n\u001b[0;32m    148\u001b[0m \u001b[38;5;28;01mreturn\u001b[39;00m pd\u001b[38;5;241m.\u001b[39mDataFrame({\u001b[38;5;124m\"\u001b[39m\u001b[38;5;124mFalse Positive Rate\u001b[39m\u001b[38;5;124m\"\u001b[39m: _fpr, \u001b[38;5;124m\"\u001b[39m\u001b[38;5;124mTrue Positive Rate\u001b[39m\u001b[38;5;124m\"\u001b[39m: _tpr}, index\u001b[38;5;241m=\u001b[39m_thresholds)\n",
      "File \u001b[1;32mc:\\Users\\k.grodek\\PycharmProjects\\ADDS_PayDelay\\40_performance\\..\\lib\\perfeval.py:75\u001b[0m, in \u001b[0;36mPaymentStoriesPerformanceEvaluator.false_positive_rate\u001b[1;34m(self, predictor_col, threshold, actual_col)\u001b[0m\n\u001b[0;32m     74\u001b[0m \u001b[38;5;28;01mdef\u001b[39;00m \u001b[38;5;21mfalse_positive_rate\u001b[39m(\u001b[38;5;28mself\u001b[39m, predictor_col: \u001b[38;5;28mstr\u001b[39m, threshold: \u001b[38;5;28mfloat\u001b[39m, actual_col: \u001b[38;5;28mstr\u001b[39m) \u001b[38;5;241m-\u001b[39m\u001b[38;5;241m>\u001b[39m \u001b[38;5;28mfloat\u001b[39m:\n\u001b[1;32m---> 75\u001b[0m     _n \u001b[38;5;241m=\u001b[39m \u001b[38;5;28;43mself\u001b[39;49m\u001b[38;5;241;43m.\u001b[39;49m\u001b[43m_actual_negative_count\u001b[49m\u001b[43m(\u001b[49m\u001b[43mpredictor_col\u001b[49m\u001b[43m)\u001b[49m\n\u001b[0;32m     76\u001b[0m     \u001b[38;5;28;01mreturn\u001b[39;00m \u001b[38;5;28;01mNone\u001b[39;00m \u001b[38;5;28;01mif\u001b[39;00m _n \u001b[38;5;241m==\u001b[39m \u001b[38;5;241m0\u001b[39m \u001b[38;5;28;01melse\u001b[39;00m \u001b[38;5;28mself\u001b[39m\u001b[38;5;241m.\u001b[39m_false_positives(predictor_col, threshold, actual_col) \u001b[38;5;241m/\u001b[39m _n\n",
      "File \u001b[1;32mc:\\Users\\k.grodek\\PycharmProjects\\ADDS_PayDelay\\40_performance\\..\\lib\\perfeval.py:58\u001b[0m, in \u001b[0;36mPaymentStoriesPerformanceEvaluator._actual_negative_count\u001b[1;34m(self, predictor_col)\u001b[0m\n\u001b[0;32m     57\u001b[0m \u001b[38;5;28;01mdef\u001b[39;00m \u001b[38;5;21m_actual_negative_count\u001b[39m(\u001b[38;5;28mself\u001b[39m, predictor_col: \u001b[38;5;28mstr\u001b[39m) \u001b[38;5;241m-\u001b[39m\u001b[38;5;241m>\u001b[39m \u001b[38;5;28mint\u001b[39m:\n\u001b[1;32m---> 58\u001b[0m     \u001b[38;5;28;01mreturn\u001b[39;00m pc\u001b[38;5;241m.\u001b[39msum(\u001b[43mpc\u001b[49m\u001b[38;5;241;43m.\u001b[39;49m\u001b[43minvert\u001b[49m\u001b[43m(\u001b[49m\u001b[38;5;28;43mself\u001b[39;49m\u001b[38;5;241;43m.\u001b[39;49m\u001b[43mstories\u001b[49m\u001b[43m(\u001b[49m\u001b[43m)\u001b[49m\u001b[38;5;241;43m.\u001b[39;49m\u001b[43mcolumn\u001b[49m\u001b[43m(\u001b[49m\u001b[43mpredictor_col\u001b[49m\u001b[43m)\u001b[49m\u001b[43m)\u001b[49m)\u001b[38;5;241m.\u001b[39mas_py()\n",
      "File \u001b[1;32m~\\PycharmProjects\\ADDS_PayDelay\\venv\\Lib\\site-packages\\pyarrow\\compute.py:242\u001b[0m, in \u001b[0;36m_make_generic_wrapper.<locals>.wrapper\u001b[1;34m(memory_pool, *args)\u001b[0m\n\u001b[0;32m    240\u001b[0m \u001b[38;5;28;01mif\u001b[39;00m args \u001b[38;5;129;01mand\u001b[39;00m \u001b[38;5;28misinstance\u001b[39m(args[\u001b[38;5;241m0\u001b[39m], Expression):\n\u001b[0;32m    241\u001b[0m     \u001b[38;5;28;01mreturn\u001b[39;00m Expression\u001b[38;5;241m.\u001b[39m_call(func_name, \u001b[38;5;28mlist\u001b[39m(args))\n\u001b[1;32m--> 242\u001b[0m \u001b[38;5;28;01mreturn\u001b[39;00m \u001b[43mfunc\u001b[49m\u001b[38;5;241;43m.\u001b[39;49m\u001b[43mcall\u001b[49m\u001b[43m(\u001b[49m\u001b[43margs\u001b[49m\u001b[43m,\u001b[49m\u001b[43m \u001b[49m\u001b[38;5;28;43;01mNone\u001b[39;49;00m\u001b[43m,\u001b[49m\u001b[43m \u001b[49m\u001b[43mmemory_pool\u001b[49m\u001b[43m)\u001b[49m\n",
      "File \u001b[1;32m~\\PycharmProjects\\ADDS_PayDelay\\venv\\Lib\\site-packages\\pyarrow\\_compute.pyx:367\u001b[0m, in \u001b[0;36mpyarrow._compute.Function.call\u001b[1;34m()\u001b[0m\n",
      "File \u001b[1;32m~\\PycharmProjects\\ADDS_PayDelay\\venv\\Lib\\site-packages\\pyarrow\\error.pxi:144\u001b[0m, in \u001b[0;36mpyarrow.lib.pyarrow_internal_check_status\u001b[1;34m()\u001b[0m\n",
      "File \u001b[1;32m~\\PycharmProjects\\ADDS_PayDelay\\venv\\Lib\\site-packages\\pyarrow\\error.pxi:121\u001b[0m, in \u001b[0;36mpyarrow.lib.check_status\u001b[1;34m()\u001b[0m\n",
      "\u001b[1;31mArrowNotImplementedError\u001b[0m: Function 'invert' has no kernel matching input types (double)"
     ]
    }
   ],
   "source": [
    "    evaluator.roc_curve(predictor_col=PaymentStoriesColumns.ScaledDelayMean.name, threshold_min=-3, threshold_max=3, steps=100, actual_col=PaymentStoriesColumns.DenotesAnyRisk.name)"
   ]
  },
  {
   "cell_type": "code",
   "execution_count": 15,
   "id": "e862ae66",
   "metadata": {},
   "outputs": [],
   "source": [
    "predicator = evaluator.stories().column('delay_days_scaled_mean')\n",
    "threshold = 0.0\n",
    "truth = evaluator.stories().column('denotes_any_risk')"
   ]
  },
  {
   "cell_type": "code",
   "execution_count": 12,
   "id": "854b7760",
   "metadata": {},
   "outputs": [],
   "source": [
    "import pyarrow.compute as pc\n",
    "import pyarrow.parquet as pq\n",
    "import pyarrow as pa"
   ]
  },
  {
   "cell_type": "code",
   "execution_count": 13,
   "id": "a12d1fce",
   "metadata": {},
   "outputs": [
    {
     "data": {
      "text/plain": [
       "<pyarrow.lib.ChunkedArray object at 0x000002C0AE8183B0>\n",
       "[\n",
       "  [\n",
       "    false,\n",
       "    false,\n",
       "    false,\n",
       "    false,\n",
       "    false,\n",
       "    ...\n",
       "    false,\n",
       "    false,\n",
       "    true,\n",
       "    true,\n",
       "    false\n",
       "  ]\n",
       "]"
      ]
     },
     "execution_count": 13,
     "metadata": {},
     "output_type": "execute_result"
    }
   ],
   "source": [
    "pc.greater(predicator, threshold)"
   ]
  },
  {
   "cell_type": "code",
   "execution_count": 23,
   "id": "7c23838d",
   "metadata": {},
   "outputs": [
    {
     "data": {
      "text/plain": [
       "<pyarrow.UInt64Scalar: 137>"
      ]
     },
     "execution_count": 23,
     "metadata": {},
     "output_type": "execute_result"
    }
   ],
   "source": [
    "pc.sum(pc.and_(pc.greater(predicator, threshold), truth))"
   ]
  },
  {
   "cell_type": "code",
   "execution_count": 26,
   "id": "796329e5",
   "metadata": {},
   "outputs": [
    {
     "data": {
      "text/plain": [
       "<pyarrow.lib.ChunkedArray object at 0x000002C0AE821580>\n",
       "[\n",
       "  [\n",
       "    true,\n",
       "    true,\n",
       "    true,\n",
       "    true,\n",
       "    true,\n",
       "    ...\n",
       "    true,\n",
       "    true,\n",
       "    true,\n",
       "    true,\n",
       "    true\n",
       "  ]\n",
       "]"
      ]
     },
     "execution_count": 26,
     "metadata": {},
     "output_type": "execute_result"
    }
   ],
   "source": [
    "pc.invert(truth)"
   ]
  },
  {
   "cell_type": "code",
   "execution_count": null,
   "id": "e6d202db",
   "metadata": {},
   "outputs": [],
   "source": []
  }
 ],
 "metadata": {
  "kernelspec": {
   "display_name": "Python 3 (ipykernel)",
   "language": "python",
   "name": "python3"
  },
  "language_info": {
   "codemirror_mode": {
    "name": "ipython",
    "version": 3
   },
   "file_extension": ".py",
   "mimetype": "text/x-python",
   "name": "python",
   "nbconvert_exporter": "python",
   "pygments_lexer": "ipython3",
   "version": "3.11.2"
  }
 },
 "nbformat": 4,
 "nbformat_minor": 5
}
